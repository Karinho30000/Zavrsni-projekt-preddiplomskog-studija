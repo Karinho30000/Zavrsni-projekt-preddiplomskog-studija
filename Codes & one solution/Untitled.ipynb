{
 "cells": [
  {
   "cell_type": "code",
   "execution_count": 2,
   "id": "fba74cab",
   "metadata": {},
   "outputs": [],
   "source": [
    "import numpy as nc \n",
    "import matplotlib as mpl\n",
    "import matplotlib.pyplot as plt\n",
    "import nltk\n",
    "from nltk.tokenize import sent_tokenize, word_tokenize\n",
    "import csv"
   ]
  },
  {
   "cell_type": "code",
   "execution_count": null,
   "id": "fead9086",
   "metadata": {},
   "outputs": [],
   "source": [
    "with open('/tmp/output.tsv', 'wt') as out_file:\n",
    "    tsv_writer = csv.writer(out_file, delimiter='\\t')\n",
    "    Event_read = open(\"asta.gtf\")\n",
    "    for row in Event_read:\n",
    "            arr = word_tokenize(row)\n",
    "            tsv_writer.writerow([arr[0], int(arr[3]), int(arr[4])])\n"
   ]
  },
  {
   "cell_type": "code",
   "execution_count": null,
   "id": "31949cb8",
   "metadata": {},
   "outputs": [],
   "source": []
  }
 ],
 "metadata": {},
 "nbformat": 4,
 "nbformat_minor": 5
}
