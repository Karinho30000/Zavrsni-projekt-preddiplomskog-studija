{
 "cells": [
  {
   "cell_type": "code",
   "execution_count": 2,
   "id": "0225a7dd",
   "metadata": {},
   "outputs": [],
   "source": [
    "import numpy as nc \n",
    "import matplotlib as mpl\n",
    "import matplotlib.pyplot as plt\n",
    "import nltk\n",
    "from nltk.tokenize import sent_tokenize, word_tokenize\n",
    "import csv"
   ]
  },
  {
   "cell_type": "code",
   "execution_count": 3,
   "id": "f986c4f6",
   "metadata": {},
   "outputs": [],
   "source": [
    "dict = {\"chr1\" : [],\n",
    "        \"chr2\" : [],\n",
    "        \"chr3\" : [],\n",
    "        \"chr4\" : [],\n",
    "        \"chr5\" : [],\n",
    "        \"chr6\" : [],\n",
    "        \"chr7\" : [],\n",
    "        \"chr8\" : [],\n",
    "        \"chr9\" : [],\n",
    "        \"chr10\" : [],\n",
    "        \"chr11\" : [],\n",
    "        \"chr12\" : [],\n",
    "        \"chr13\" : [],\n",
    "        \"chr14\" : [],\n",
    "        \"chr15\" : [],\n",
    "        \"chr16\" : [],\n",
    "        \"chr17\" : [],\n",
    "        \"chr18\" : [],\n",
    "        \"chr19\" : [],\n",
    "        \"chr20\" : [],\n",
    "        \"chr21\" : [],\n",
    "        \"chr22\" : [],\n",
    "        \"chrX\" : [],\n",
    "        \"chrY\" : [],        \n",
    "        }\n",
    "with open('output17.tsv', 'wt') as out_file:\n",
    "    tsv_writer = csv.writer(out_file, delimiter='\\t')\n",
    "    Event_read = open(\"asta.gtf\")\n",
    "    for row in Event_read:\n",
    "            arr = word_tokenize(row)\n",
    "            if (arr[3], arr[4]) not in dict[arr[0]] and arr[0] == \"chr17\":\n",
    "                tsv_writer.writerow([arr[0], arr[3], arr[4]])\n",
    "                dict[arr[0]].append((arr[3], arr[4]))\n"
   ]
  },
  {
   "cell_type": "code",
   "execution_count": 11,
   "id": "e33b1f50",
   "metadata": {},
   "outputs": [],
   "source": [
    "with open('output20.tsv','r+') as file:\n",
    "    for line in file:\n",
    "        if not line.isspace():\n",
    "            file.write(line)"
   ]
  },
  {
   "cell_type": "code",
   "execution_count": null,
   "id": "c1321e8d",
   "metadata": {},
   "outputs": [],
   "source": []
  },
  {
   "cell_type": "code",
   "execution_count": null,
   "id": "c33d11d5",
   "metadata": {},
   "outputs": [],
   "source": []
  }
 ],
 "metadata": {
  "kernelspec": {
   "display_name": "Python 3 (ipykernel)",
   "language": "python",
   "name": "python3"
  },
  "language_info": {
   "codemirror_mode": {
    "name": "ipython",
    "version": 3
   },
   "file_extension": ".py",
   "mimetype": "text/x-python",
   "name": "python",
   "nbconvert_exporter": "python",
   "pygments_lexer": "ipython3",
   "version": "3.9.13"
  }
 },
 "nbformat": 4,
 "nbformat_minor": 5
}
