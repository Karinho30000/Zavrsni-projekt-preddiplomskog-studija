{
 "cells": [
  {
   "cell_type": "code",
   "execution_count": 1,
   "id": "961566ee",
   "metadata": {},
   "outputs": [],
   "source": [
    "import numpy as nc \n",
    "import matplotlib as mpl\n",
    "import matplotlib.pyplot as plt\n",
    "import nltk\n",
    "from nltk.tokenize import sent_tokenize, word_tokenize\n"
   ]
  },
  {
   "cell_type": "code",
   "execution_count": 14,
   "id": "086b14fc",
   "metadata": {},
   "outputs": [
    {
     "name": "stderr",
     "output_type": "stream",
     "text": [
      "[nltk_data] Downloading package punkt to\n",
      "[nltk_data]     C:\\Users\\jjurc\\AppData\\Roaming\\nltk_data...\n",
      "[nltk_data]   Unzipping tokenizers\\punkt.zip.\n"
     ]
    },
    {
     "data": {
      "text/plain": [
       "True"
      ]
     },
     "execution_count": 14,
     "metadata": {},
     "output_type": "execute_result"
    }
   ],
   "source": [
    "nltk.download('punkt')"
   ]
  },
  {
   "cell_type": "markdown",
   "id": "ec9529f4",
   "metadata": {},
   "source": [
    "###### Konstante"
   ]
  },
  {
   "cell_type": "code",
   "execution_count": 2,
   "id": "7c8176ca",
   "metadata": {
    "scrolled": true
   },
   "outputs": [],
   "source": [
    "\n",
    "plt.rcParams['figure.figsize'] = [12, 2]\n",
    "CHROMOSOME_LENGTHS = [247249719, 242951149, 199501827,\n",
    "                      191273063, 180857866, 170899992,\n",
    "                      158821424, 146274826, 140273252,\n",
    "                      135374737, 134452384, 132349534,\n",
    "                      114142980, 106368585, 100338915,\n",
    "                      88827254, 78774742, 76117153, \n",
    "                      63811651, 62435964, 46944323, \n",
    "                      49691432, 154913754, 57772954]"
   ]
  },
  {
   "cell_type": "code",
   "execution_count": 3,
   "id": "b26b6273",
   "metadata": {},
   "outputs": [],
   "source": [
    "Event_read = open(\"asta.gtf\")\n",
    "event_type_array = []\n",
    "chromosomearray = []\n",
    "for row in Event_read:\n",
    "    arr = word_tokenize(row)\n",
    "    chromosomearray.append([arr[0]] + arr[3:5])\n",
    "    for elements, index in zip(arr, range(len(arr))) :\n",
    "        if elements == \"structure\":\n",
    "            event_type_array.append(arr[index+2])\n",
    "        \n",
    "    "
   ]
  },
  {
   "cell_type": "code",
   "execution_count": 4,
   "id": "0bbaa699",
   "metadata": {},
   "outputs": [
    {
     "ename": "IndexError",
     "evalue": "list index out of range",
     "output_type": "error",
     "traceback": [
      "\u001b[1;31m---------------------------------------------------------------------------\u001b[0m",
      "\u001b[1;31mIndexError\u001b[0m                                Traceback (most recent call last)",
      "\u001b[1;32m~\\AppData\\Local\\Temp\\ipykernel_15428\\3661397106.py\u001b[0m in \u001b[0;36m<module>\u001b[1;34m\u001b[0m\n\u001b[1;32m----> 1\u001b[1;33m \u001b[0mprint\u001b[0m\u001b[1;33m(\u001b[0m\u001b[0mchromosomearray\u001b[0m\u001b[1;33m[\u001b[0m\u001b[1;36m0\u001b[0m\u001b[1;33m]\u001b[0m\u001b[1;33m)\u001b[0m\u001b[1;33m\u001b[0m\u001b[1;33m\u001b[0m\u001b[0m\n\u001b[0m",
      "\u001b[1;31mIndexError\u001b[0m: list index out of range"
     ]
    }
   ],
   "source": [
    "print(chromosomearray[0])"
   ]
  },
  {
   "cell_type": "code",
   "execution_count": 4,
   "id": "1d73ab29",
   "metadata": {},
   "outputs": [],
   "source": [
    "Mapped_read = open(\"Mapped18.txt\")\n",
    "mapped_array = []\n",
    "for row in Mapped_read:\n",
    "    arr = word_tokenize(row)\n",
    "    mapped_array.append(int(arr[1]))\n",
    "        \n",
    "  "
   ]
  },
  {
   "cell_type": "code",
   "execution_count": 5,
   "id": "b93c472b",
   "metadata": {},
   "outputs": [
    {
     "name": "stdout",
     "output_type": "stream",
     "text": [
      "[6028, 10627, 13970, 38739]\n"
     ]
    }
   ],
   "source": [
    "event_names = []\n",
    "event_frequency = [0,0,0,0]\n",
    "for structure_type in event_type_array:\n",
    "    if structure_type == \"0,1^2-\" or structure_type == \"1^2-,0\":\n",
    "        event_frequency[0] += 1\n",
    "    elif structure_type == \"1^,2^\": \n",
    "        event_frequency[1] += 1\n",
    "    elif structure_type == \"1-,2-\": \n",
    "        event_frequency[2] += 1\n",
    "    elif structure_type == \"0,1-2^\" or structure_type == \"1-2^,0\":\n",
    "        event_frequency[3] += 1\n",
    "\n",
    "print(event_frequency)\n",
    "event_names = [\"Intron\", \"Donor\", \"Accept\", \"Exon\"]"
   ]
  },
  {
   "cell_type": "code",
   "execution_count": 6,
   "id": "019cd044",
   "metadata": {},
   "outputs": [],
   "source": [
    "chromosome_names = []\n",
    "for i in range(0,22):\n",
    "    chromosome_names.append(\"chr\" + str(i+1))\n",
    "    \n",
    "chromosome_names.append(\"chrX\")\n",
    "chromosome_names.append(\"chrY\")"
   ]
  },
  {
   "cell_type": "code",
   "execution_count": 7,
   "id": "fffa31df",
   "metadata": {},
   "outputs": [],
   "source": [
    "chromosome3D = []\n",
    "for name in chromosome_names:\n",
    "    temp_array = []\n",
    "    for i in range(len(chromosomearray)):\n",
    "        if chromosomearray[i][0] == name:\n",
    "            event_instance = chromosomearray[i]\n",
    "            temp_array.append(event_instance[1:3])\n",
    "    chromosome3D.append(temp_array)\n"
   ]
  },
  {
   "cell_type": "code",
   "execution_count": 8,
   "id": "8eabc38f",
   "metadata": {},
   "outputs": [],
   "source": [
    "chr_id = 18\n",
    "histogram_precision = 250"
   ]
  },
  {
   "cell_type": "code",
   "execution_count": 9,
   "id": "90002eaf",
   "metadata": {},
   "outputs": [
    {
     "name": "stdout",
     "output_type": "stream",
     "text": [
      "[5956387, 13682105, 260304, 260304, 9937066, 11884627, 12311053, 49044204, 12785844, 12817365, 79943462, 79943462, 79973856, 79973856, 79977701, 79977701, 63128759, 63128759, 63128759, 63391076, 63391076, 68700485, 69896045, 36818973, 58723251, 58723251, 58733574, 59140035, 59140035, 59140035, 59140035, 56624461, 56624461, 56624461, 56624461, 56624461, 56624461, 56624461, 56603056, 12971251, 49044204, 9937066, 9937066, 47896809, 9937066, 63918102, 59140035, 9937066, 12963371, 79977701, 58733574, 56603056, 69896045, 12963371, 50273863, 62161385, 56624461, 9937066, 79973856, 57580199, 36127016, 58733574, 47870564, 59140035, 2796521, 41970456, 3247909, 9937066, 56603056, 56603056, 36138872, 49163787, 69896045, 59140035, 9937066]\n"
     ]
    }
   ],
   "source": [
    "print(mapped_array)"
   ]
  },
  {
   "cell_type": "code",
   "execution_count": 10,
   "id": "b4809712",
   "metadata": {},
   "outputs": [
    {
     "data": {
      "text/plain": [
       "(0.0, 76117153.0)"
      ]
     },
     "execution_count": 10,
     "metadata": {},
     "output_type": "execute_result"
    },
    {
     "data": {
      "image/png": "[encoded data removed]",
      "text/plain": [
       "<Figure size 1200x200 with 1 Axes>"
      ]
     },
     "metadata": {},
     "output_type": "display_data"
    }
   ],
   "source": [
    "histdata = []\n",
    "for events in chromosome3D[chr_id - 1]:\n",
    "    histdata.append(int(events[0]))\n",
    "    \n",
    "ys =[]\n",
    "for i in range(histogram_precision + 1):\n",
    "    ys.append(CHROMOSOME_LENGTHS[chr_id - 1] /\n",
    "              (histogram_precision + 1)* (i + 1))\n",
    "\n",
    "plt.hist(histdata,ys,alpha = 0.8, label = \"event\")\n",
    "plt.hist(mapped_array,ys, alpha = 0.8, label = \"read\")\n",
    "plt.title(chromosome_names[chr_id-1] + \"\")\n",
    "plt.xlim(xmin=0, xmax =CHROMOSOME_LENGTHS[chr_id - 1])\n",
    "#plt.legend(loc='upper right', fontsize = 8)"
   ]
  },
  {
   "cell_type": "code",
   "execution_count": 33,
   "id": "48fe8bd8",
   "metadata": {
    "scrolled": true
   },
   "outputs": [
    {
     "data": {
      "text/plain": [
       "<BarContainer object of 4 artists>"
      ]
     },
     "execution_count": 33,
     "metadata": {},
     "output_type": "execute_result"
    },
    {
     "data": {
      "image/png": "[encoded data removed]",
      "text/plain": [
       "<Figure size 576x288 with 1 Axes>"
      ]
     },
     "metadata": {
      "needs_background": "light"
     },
     "output_type": "display_data"
    }
   ],
   "source": [
    "plt.bar(event_names, event_frequency)"
   ]
  },
  {
   "cell_type": "code",
   "execution_count": null,
   "id": "08bdface",
   "metadata": {},
   "outputs": [],
   "source": []
  }
 ],
 "metadata": {
  "kernelspec": {
   "display_name": "Python 3 (ipykernel)",
   "language": "python",
   "name": "python3"
  },
  "language_info": {
   "codemirror_mode": {
    "name": "ipython",
    "version": 3
   },
   "file_extension": ".py",
   "mimetype": "text/x-python",
   "name": "python",
   "nbconvert_exporter": "python",
   "pygments_lexer": "ipython3",
   "version": "3.9.13"
  }
 },
 "nbformat": 4,
 "nbformat_minor": 5
}
